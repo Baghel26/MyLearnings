{
 "cells": [
  {
   "cell_type": "code",
   "execution_count": 19,
   "metadata": {},
   "outputs": [
    {
     "data": {
      "text/plain": [
       "name    object\n",
       "math     int64\n",
       "cs       int64\n",
       "dtype: object"
      ]
     },
     "execution_count": 19,
     "metadata": {},
     "output_type": "execute_result"
    }
   ],
   "source": [
    "import numpy as np\n",
    "import pandas as pd\n",
    "\n",
    "df = pd.read_csv('test_scores.csv')\n",
    "df.dtypes"
   ]
  },
  {
   "cell_type": "code",
   "execution_count": 72,
   "metadata": {},
   "outputs": [
    {
     "name": "stdout",
     "output_type": "stream",
     "text": [
      "cost 5199.1, iteration 0 m 0.9891800000000002, b 0.013980000000000001 \n",
      "cost 46.3330473650399, iteration 1 m 1.0416176032, b 0.0147417592 \n",
      "cost 31.852649863558305, iteration 2 m 1.0443971065873279, b 0.014802799669408 \n",
      "cost 31.811952059367805, iteration 3 m 1.0445441606668626, b 0.014826693765467417 \n"
     ]
    }
   ],
   "source": [
    "# mse = 1/n sum((y-ypred)^2)\n",
    "# ypred = x*m + b\n",
    "# dm = -2/n *sum(x(y-ypred))\n",
    "# db = -2/n * sum(y-ypredd)\n",
    "# mcurr = mcurr - learningRate * dm\n",
    "#db = db -LearningRate *db\n",
    "def gradientDescent(x,y):\n",
    "    learningRate = .0001\n",
    "    iteration =4\n",
    "    m_curr = b_curr = 0\n",
    "    n = len(x)\n",
    "    for i in range(iteration):\n",
    "        y_pred = x * m_curr + b_curr\n",
    "        db= (-2/n)* sum(y-y_pred)\n",
    "        dm = (-2/n) * sum(x * (y-y_pred))\n",
    "        m_curr = m_curr - learningRate * dm\n",
    "        b_curr = b_curr - learningRate *db\n",
    "        \n",
    "        cost = (1/n)*sum([val**2 for val in (y-y_pred)])\n",
    "        print(\"cost {}, iteration {} m {}, b {} \".format(cost,i,m_curr,b_curr))\n",
    "        \n",
    "gradientDescent(df['math'],df['cs'])"
   ]
  },
  {
   "cell_type": "code",
   "execution_count": 51,
   "metadata": {},
   "outputs": [],
   "source": [
    "#df.head(3)\n",
    "# cost = 1/n * sum((y-ypred)^2)\n"
   ]
  },
  {
   "cell_type": "code",
   "execution_count": null,
   "metadata": {},
   "outputs": [],
   "source": [
    "# we checked the corelation between math and cs score using gradient descent method which uses slope "
   ]
  },
  {
   "cell_type": "code",
   "execution_count": null,
   "metadata": {},
   "outputs": [],
   "source": []
  }
 ],
 "metadata": {
  "kernelspec": {
   "display_name": "Python 3",
   "language": "python",
   "name": "python3"
  },
  "language_info": {
   "codemirror_mode": {
    "name": "ipython",
    "version": 3
   },
   "file_extension": ".py",
   "mimetype": "text/x-python",
   "name": "python",
   "nbconvert_exporter": "python",
   "pygments_lexer": "ipython3",
   "version": "3.8.3"
  }
 },
 "nbformat": 4,
 "nbformat_minor": 4
}
